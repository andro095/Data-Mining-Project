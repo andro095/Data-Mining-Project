{
  "nbformat": 4,
  "nbformat_minor": 0,
  "metadata": {
    "colab": {
      "name": "profinal.ipynb",
      "provenance": [],
      "collapsed_sections": [],
      "include_colab_link": true
    },
    "kernelspec": {
      "name": "python3",
      "display_name": "Python 3"
    },
    "language_info": {
      "name": "python"
    }
  },
  "cells": [
    {
      "cell_type": "markdown",
      "metadata": {
        "id": "view-in-github",
        "colab_type": "text"
      },
      "source": [
        "<a href=\"https://colab.research.google.com/github/andro095/Data-Mining-Project/blob/master/project.ipynb\" target=\"_parent\"><img src=\"https://colab.research.google.com/assets/colab-badge.svg\" alt=\"Open In Colab\"/></a>"
      ]
    },
    {
      "cell_type": "markdown",
      "metadata": {
        "id": "zojztCsuqx8K"
      },
      "source": [
        "# **Proyecto de Modelo de Predicción**\n",
        "\n",
        "\n",
        "---\n",
        "\n",
        "\n",
        "## **Autores:**\n",
        "\n",
        "\n",
        "*   ### André Rodríguez 18332\n",
        "*   ### Cesar Rodas 16776\n",
        "*   ### Cristina Bautista 161260\n",
        "*   ### Abril Palencia 18198\n",
        "\n",
        "\n",
        "---\n",
        "\n",
        "\n",
        "\n",
        "## **Nota:**\n",
        "\n",
        "Dado que se trabajó en el proyecto el google colab y se realizarón las contribuciones de los integrantes en el google colab y solo un integrante del grupo era el encargado de actualizar el repo\n",
        "\n",
        "\n",
        "---\n",
        "\n",
        "## **Base de datos**\n",
        "\n",
        "Para obtener la base de datos, hacer clic [aquí](https://bit.ly/2Rqw7NB)\n",
        "\n",
        "\n",
        "---\n",
        "\n",
        "## **Tabla de contenidos**\n",
        "\n",
        "\n",
        "\n",
        "1.   [Sección 1: Extracción de Datos](#scrollTo=c6wPKt2Z0P3Z)\n",
        "2.   [Sección 2: Depuración de Datos](#scrollTo=8AOfhxDO0KbT)"
      ]
    },
    {
      "cell_type": "code",
      "metadata": {
        "id": "u6VhBJ7uk73W",
        "colab": {
          "base_uri": "https://localhost:8080/"
        },
        "outputId": "00c50c98-90a7-4563-e89b-076cbb70587a"
      },
      "source": [
        "import sqlite3 as sql\n",
        "import pandas as pd\n",
        "import seaborn as sns\n",
        "from sklearn import preprocessing\n",
        "from sklearn.linear_model import LinearRegression, Lasso\n",
        "from sklearn.model_selection import train_test_split\n",
        "from sklearn.preprocessing import PolynomialFeatures\n",
        "from sklearn.metrics import mean_absolute_error, mean_squared_error, r2_score\n",
        "import statsmodels.api as sm\n",
        "import matplotlib.pyplot as plt\n",
        "import numpy as np"
      ],
      "execution_count": null,
      "outputs": [
        {
          "output_type": "stream",
          "text": [
            "/usr/local/lib/python3.7/dist-packages/statsmodels/tools/_testing.py:19: FutureWarning: pandas.util.testing is deprecated. Use the functions in the public API at pandas.testing instead.\n",
            "  import pandas.util.testing as tm\n"
          ],
          "name": "stderr"
        }
      ]
    },
    {
      "cell_type": "code",
      "metadata": {
        "colab": {
          "base_uri": "https://localhost:8080/"
        },
        "id": "OHF-9Fg9rmBD",
        "outputId": "9e011e2f-723b-409b-dd0f-82c0e4d9e3f8"
      },
      "source": [
        "from google.colab import drive\n",
        "drive.mount('/content/drive')"
      ],
      "execution_count": null,
      "outputs": [
        {
          "output_type": "stream",
          "text": [
            "Mounted at /content/drive\n"
          ],
          "name": "stdout"
        }
      ]
    },
    {
      "cell_type": "code",
      "metadata": {
        "id": "8fRhuQgDriOe"
      },
      "source": [
        "# dfs = {}\n",
        "# con = sql.connect(\"/content/drive/MyDrive/UVG/4to Año/1er Semestre/Minería de Datos/16va semana/Data Mining Project/Code/basketball.sqlite\")"
      ],
      "execution_count": null,
      "outputs": []
    },
    {
      "cell_type": "code",
      "metadata": {
        "id": "anbOMabRrwBq"
      },
      "source": [
        "query = \"\"\"SELECT G.TEAM_ID_HOME, G.TEAM_ID_AWAY, G.SEASON, CASE WHEN G.WL_HOME = 'W' THEN 0 ELSE 1 END AS WIN\n",
        ", CASE WHEN TH.abbreviation IS NULL THEN G.TEAM_ABBREVIATION_HOME ELSE TH.abbreviation END abbreviation_home\n",
        ", CASE WHEN TA.abbreviation IS NULL THEN G.TEAM_ABBREVIATION_AWAY ELSE TA.abbreviation END abbreviation_away\n",
        ", PAH.height AS height_ph, PAH.weight AS weight_ph, PAH.draft_year AS draft_year_ph, PAH.draft_round AS draft_round_ph, PAH.draft_number AS draft_number_ph, IFNULL(PAH.pts,0) AS pts_ph, IFNULL(PAH.ast,0) AS ast_ph\n",
        ", PAA.height AS height_pa, PAA.weight AS weight_pa, PAA.draft_year AS draft_year_pa, PAA.draft_round AS draft_round_pa, PAA.draft_number AS draft_number_pa, IFNULL(PAA.pts,0) AS pts_pa, IFNULL(PAA.ast,0) AS ast_pa\n",
        "FROM Game G\n",
        "    LEFT OUTER JOIN Team TH ON (G.team_id_home = TH.id)\n",
        "    LEFT OUTER JOIN Team TA ON (G.team_id_away = TA.id)\n",
        "    LEFT OUTER JOIN Player_Attributes PAH ON (G.TEAM_ABBREVIATION_HOME = PAH.TEAM_ABBREVIATION AND PAH.from_year >= G.season AND PAH.to_year <= G.season )\n",
        "    LEFT OUTER JOIN Player_Attributes PAA ON (G.TEAM_ABBREVIATION_AWAY = PAA.TEAM_ABBREVIATION AND PAH.from_year >= G.season AND PAH.to_year <= G.season)\n",
        "WHERE (PAH.draft_year <> 'Undrafted' AND PAH.draft_year <> 'None')\n",
        " AND (PAH.draft_round <> 'Undrafted' AND PAH.draft_round <> 'None')\n",
        " AND (PAH.draft_number <> 'Undrafted' AND PAH.draft_number <> 'None')\n",
        " AND (PAA.draft_year <> 'Undrafted' AND PAA.draft_year <> 'None')\n",
        " AND (PAA.draft_round <> 'Undrafted' AND PAA.draft_round <> 'None')\n",
        " AND (PAA.draft_number <> 'Undrafted' AND PAA.draft_number <> 'None')\n",
        "\"\"\""
      ],
      "execution_count": null,
      "outputs": []
    },
    {
      "cell_type": "code",
      "metadata": {
        "id": "L72aMitMrxDR"
      },
      "source": [
        "# cur = con.cursor()\n",
        "# cur.execute(query)\n",
        "# res = cur.fetchall()"
      ],
      "execution_count": null,
      "outputs": []
    },
    {
      "cell_type": "code",
      "metadata": {
        "id": "yHC8LhHJsifX"
      },
      "source": [
        "# # Para que me funcione a mi - Cris\n",
        "from sqlalchemy import create_engine\n",
        "dfs = {}\n",
        "engine = create_engine(\"sqlite:////content/drive/MyDrive/Data Mining Project/Code/basketball.sqlite\")\n",
        "con = engine.connect()\n",
        "cur = con.execute(query)\n",
        "res = cur.fetchall()"
      ],
      "execution_count": null,
      "outputs": []
    },
    {
      "cell_type": "code",
      "metadata": {
        "id": "QqLxlynasH5y"
      },
      "source": [
        "df = pd.DataFrame(res)"
      ],
      "execution_count": null,
      "outputs": []
    },
    {
      "cell_type": "code",
      "metadata": {
        "colab": {
          "base_uri": "https://localhost:8080/",
          "height": 204
        },
        "id": "78JnbSxOsKZx",
        "outputId": "9ddd6368-9bd2-47d1-b485-47c9c3662d3e"
      },
      "source": [
        "df.head()"
      ],
      "execution_count": null,
      "outputs": [
        {
          "output_type": "execute_result",
          "data": {
            "text/html": [
              "<div>\n",
              "<style scoped>\n",
              "    .dataframe tbody tr th:only-of-type {\n",
              "        vertical-align: middle;\n",
              "    }\n",
              "\n",
              "    .dataframe tbody tr th {\n",
              "        vertical-align: top;\n",
              "    }\n",
              "\n",
              "    .dataframe thead th {\n",
              "        text-align: right;\n",
              "    }\n",
              "</style>\n",
              "<table border=\"1\" class=\"dataframe\">\n",
              "  <thead>\n",
              "    <tr style=\"text-align: right;\">\n",
              "      <th></th>\n",
              "      <th>0</th>\n",
              "      <th>1</th>\n",
              "      <th>2</th>\n",
              "      <th>3</th>\n",
              "      <th>4</th>\n",
              "      <th>5</th>\n",
              "      <th>6</th>\n",
              "      <th>7</th>\n",
              "      <th>8</th>\n",
              "      <th>9</th>\n",
              "      <th>10</th>\n",
              "      <th>11</th>\n",
              "      <th>12</th>\n",
              "      <th>13</th>\n",
              "      <th>14</th>\n",
              "      <th>15</th>\n",
              "      <th>16</th>\n",
              "      <th>17</th>\n",
              "      <th>18</th>\n",
              "      <th>19</th>\n",
              "    </tr>\n",
              "  </thead>\n",
              "  <tbody>\n",
              "    <tr>\n",
              "      <th>0</th>\n",
              "      <td>1610610025</td>\n",
              "      <td>1610612752</td>\n",
              "      <td>1946</td>\n",
              "      <td>0</td>\n",
              "      <td>CHS</td>\n",
              "      <td>NYK</td>\n",
              "      <td>75.0</td>\n",
              "      <td>215.0</td>\n",
              "      <td>1968</td>\n",
              "      <td>12</td>\n",
              "      <td>160</td>\n",
              "      <td>1.8</td>\n",
              "      <td>0.2</td>\n",
              "      <td>71.0</td>\n",
              "      <td>171.0</td>\n",
              "      <td>1987</td>\n",
              "      <td>3</td>\n",
              "      <td>68</td>\n",
              "      <td>2.4</td>\n",
              "      <td>2.0</td>\n",
              "    </tr>\n",
              "    <tr>\n",
              "      <th>1</th>\n",
              "      <td>1610610025</td>\n",
              "      <td>1610612752</td>\n",
              "      <td>1946</td>\n",
              "      <td>0</td>\n",
              "      <td>CHS</td>\n",
              "      <td>NYK</td>\n",
              "      <td>75.0</td>\n",
              "      <td>215.0</td>\n",
              "      <td>1968</td>\n",
              "      <td>12</td>\n",
              "      <td>160</td>\n",
              "      <td>1.8</td>\n",
              "      <td>0.2</td>\n",
              "      <td>72.0</td>\n",
              "      <td>180.0</td>\n",
              "      <td>1949</td>\n",
              "      <td>1</td>\n",
              "      <td>7</td>\n",
              "      <td>8.0</td>\n",
              "      <td>5.7</td>\n",
              "    </tr>\n",
              "    <tr>\n",
              "      <th>2</th>\n",
              "      <td>1610610025</td>\n",
              "      <td>1610612752</td>\n",
              "      <td>1946</td>\n",
              "      <td>0</td>\n",
              "      <td>CHS</td>\n",
              "      <td>NYK</td>\n",
              "      <td>75.0</td>\n",
              "      <td>215.0</td>\n",
              "      <td>1968</td>\n",
              "      <td>12</td>\n",
              "      <td>160</td>\n",
              "      <td>1.8</td>\n",
              "      <td>0.2</td>\n",
              "      <td>73.0</td>\n",
              "      <td>170.0</td>\n",
              "      <td>1960</td>\n",
              "      <td>3</td>\n",
              "      <td>19</td>\n",
              "      <td>4.6</td>\n",
              "      <td>2.6</td>\n",
              "    </tr>\n",
              "    <tr>\n",
              "      <th>3</th>\n",
              "      <td>1610610025</td>\n",
              "      <td>1610612752</td>\n",
              "      <td>1946</td>\n",
              "      <td>0</td>\n",
              "      <td>CHS</td>\n",
              "      <td>NYK</td>\n",
              "      <td>75.0</td>\n",
              "      <td>215.0</td>\n",
              "      <td>1968</td>\n",
              "      <td>12</td>\n",
              "      <td>160</td>\n",
              "      <td>1.8</td>\n",
              "      <td>0.2</td>\n",
              "      <td>73.0</td>\n",
              "      <td>170.0</td>\n",
              "      <td>1966</td>\n",
              "      <td>12</td>\n",
              "      <td>98</td>\n",
              "      <td>1.1</td>\n",
              "      <td>0.8</td>\n",
              "    </tr>\n",
              "    <tr>\n",
              "      <th>4</th>\n",
              "      <td>1610610025</td>\n",
              "      <td>1610612752</td>\n",
              "      <td>1946</td>\n",
              "      <td>0</td>\n",
              "      <td>CHS</td>\n",
              "      <td>NYK</td>\n",
              "      <td>75.0</td>\n",
              "      <td>215.0</td>\n",
              "      <td>1968</td>\n",
              "      <td>12</td>\n",
              "      <td>160</td>\n",
              "      <td>1.8</td>\n",
              "      <td>0.2</td>\n",
              "      <td>73.0</td>\n",
              "      <td>175.0</td>\n",
              "      <td>1961</td>\n",
              "      <td>4</td>\n",
              "      <td>33</td>\n",
              "      <td>3.3</td>\n",
              "      <td>1.3</td>\n",
              "    </tr>\n",
              "  </tbody>\n",
              "</table>\n",
              "</div>"
            ],
            "text/plain": [
              "           0           1     2   3    4    5   ...     14    15  16  17   18   19\n",
              "0  1610610025  1610612752  1946   0  CHS  NYK  ...  171.0  1987   3  68  2.4  2.0\n",
              "1  1610610025  1610612752  1946   0  CHS  NYK  ...  180.0  1949   1   7  8.0  5.7\n",
              "2  1610610025  1610612752  1946   0  CHS  NYK  ...  170.0  1960   3  19  4.6  2.6\n",
              "3  1610610025  1610612752  1946   0  CHS  NYK  ...  170.0  1966  12  98  1.1  0.8\n",
              "4  1610610025  1610612752  1946   0  CHS  NYK  ...  175.0  1961   4  33  3.3  1.3\n",
              "\n",
              "[5 rows x 20 columns]"
            ]
          },
          "metadata": {
            "tags": []
          },
          "execution_count": 8
        }
      ]
    },
    {
      "cell_type": "code",
      "metadata": {
        "id": "DYN71OPrsU-3"
      },
      "source": [
        "df.columns = ['teamIdHome', 'teamIdAway', 'season', 'win', 'abbreviation_home', 'abbreviation_away', 'height_ph', 'weight_ph', 'draft_year_ph', 'draft_round_ph', 'draft_number_ph', 'pts_ph', 'ast_ph', 'height_pa', 'weight_pa', 'draft_year_pa', 'draft_round_pa', 'draft_number_pa', 'pts_pa', 'ast_pa']"
      ],
      "execution_count": null,
      "outputs": []
    },
    {
      "cell_type": "code",
      "metadata": {
        "colab": {
          "base_uri": "https://localhost:8080/",
          "height": 244
        },
        "id": "BFqEOFrXsba6",
        "outputId": "80491dd7-4331-4225-f988-9e3b454caedb"
      },
      "source": [
        "df.head()"
      ],
      "execution_count": null,
      "outputs": [
        {
          "output_type": "execute_result",
          "data": {
            "text/html": [
              "<div>\n",
              "<style scoped>\n",
              "    .dataframe tbody tr th:only-of-type {\n",
              "        vertical-align: middle;\n",
              "    }\n",
              "\n",
              "    .dataframe tbody tr th {\n",
              "        vertical-align: top;\n",
              "    }\n",
              "\n",
              "    .dataframe thead th {\n",
              "        text-align: right;\n",
              "    }\n",
              "</style>\n",
              "<table border=\"1\" class=\"dataframe\">\n",
              "  <thead>\n",
              "    <tr style=\"text-align: right;\">\n",
              "      <th></th>\n",
              "      <th>teamIdHome</th>\n",
              "      <th>teamIdAway</th>\n",
              "      <th>season</th>\n",
              "      <th>win</th>\n",
              "      <th>abbreviation_home</th>\n",
              "      <th>abbreviation_away</th>\n",
              "      <th>height_ph</th>\n",
              "      <th>weight_ph</th>\n",
              "      <th>draft_year_ph</th>\n",
              "      <th>draft_round_ph</th>\n",
              "      <th>draft_number_ph</th>\n",
              "      <th>pts_ph</th>\n",
              "      <th>ast_ph</th>\n",
              "      <th>height_pa</th>\n",
              "      <th>weight_pa</th>\n",
              "      <th>draft_year_pa</th>\n",
              "      <th>draft_round_pa</th>\n",
              "      <th>draft_number_pa</th>\n",
              "      <th>pts_pa</th>\n",
              "      <th>ast_pa</th>\n",
              "    </tr>\n",
              "  </thead>\n",
              "  <tbody>\n",
              "    <tr>\n",
              "      <th>0</th>\n",
              "      <td>1610610025</td>\n",
              "      <td>1610612752</td>\n",
              "      <td>1946</td>\n",
              "      <td>0</td>\n",
              "      <td>CHS</td>\n",
              "      <td>NYK</td>\n",
              "      <td>75.0</td>\n",
              "      <td>215.0</td>\n",
              "      <td>1968</td>\n",
              "      <td>12</td>\n",
              "      <td>160</td>\n",
              "      <td>1.8</td>\n",
              "      <td>0.2</td>\n",
              "      <td>71.0</td>\n",
              "      <td>171.0</td>\n",
              "      <td>1987</td>\n",
              "      <td>3</td>\n",
              "      <td>68</td>\n",
              "      <td>2.4</td>\n",
              "      <td>2.0</td>\n",
              "    </tr>\n",
              "    <tr>\n",
              "      <th>1</th>\n",
              "      <td>1610610025</td>\n",
              "      <td>1610612752</td>\n",
              "      <td>1946</td>\n",
              "      <td>0</td>\n",
              "      <td>CHS</td>\n",
              "      <td>NYK</td>\n",
              "      <td>75.0</td>\n",
              "      <td>215.0</td>\n",
              "      <td>1968</td>\n",
              "      <td>12</td>\n",
              "      <td>160</td>\n",
              "      <td>1.8</td>\n",
              "      <td>0.2</td>\n",
              "      <td>72.0</td>\n",
              "      <td>180.0</td>\n",
              "      <td>1949</td>\n",
              "      <td>1</td>\n",
              "      <td>7</td>\n",
              "      <td>8.0</td>\n",
              "      <td>5.7</td>\n",
              "    </tr>\n",
              "    <tr>\n",
              "      <th>2</th>\n",
              "      <td>1610610025</td>\n",
              "      <td>1610612752</td>\n",
              "      <td>1946</td>\n",
              "      <td>0</td>\n",
              "      <td>CHS</td>\n",
              "      <td>NYK</td>\n",
              "      <td>75.0</td>\n",
              "      <td>215.0</td>\n",
              "      <td>1968</td>\n",
              "      <td>12</td>\n",
              "      <td>160</td>\n",
              "      <td>1.8</td>\n",
              "      <td>0.2</td>\n",
              "      <td>73.0</td>\n",
              "      <td>170.0</td>\n",
              "      <td>1960</td>\n",
              "      <td>3</td>\n",
              "      <td>19</td>\n",
              "      <td>4.6</td>\n",
              "      <td>2.6</td>\n",
              "    </tr>\n",
              "    <tr>\n",
              "      <th>3</th>\n",
              "      <td>1610610025</td>\n",
              "      <td>1610612752</td>\n",
              "      <td>1946</td>\n",
              "      <td>0</td>\n",
              "      <td>CHS</td>\n",
              "      <td>NYK</td>\n",
              "      <td>75.0</td>\n",
              "      <td>215.0</td>\n",
              "      <td>1968</td>\n",
              "      <td>12</td>\n",
              "      <td>160</td>\n",
              "      <td>1.8</td>\n",
              "      <td>0.2</td>\n",
              "      <td>73.0</td>\n",
              "      <td>170.0</td>\n",
              "      <td>1966</td>\n",
              "      <td>12</td>\n",
              "      <td>98</td>\n",
              "      <td>1.1</td>\n",
              "      <td>0.8</td>\n",
              "    </tr>\n",
              "    <tr>\n",
              "      <th>4</th>\n",
              "      <td>1610610025</td>\n",
              "      <td>1610612752</td>\n",
              "      <td>1946</td>\n",
              "      <td>0</td>\n",
              "      <td>CHS</td>\n",
              "      <td>NYK</td>\n",
              "      <td>75.0</td>\n",
              "      <td>215.0</td>\n",
              "      <td>1968</td>\n",
              "      <td>12</td>\n",
              "      <td>160</td>\n",
              "      <td>1.8</td>\n",
              "      <td>0.2</td>\n",
              "      <td>73.0</td>\n",
              "      <td>175.0</td>\n",
              "      <td>1961</td>\n",
              "      <td>4</td>\n",
              "      <td>33</td>\n",
              "      <td>3.3</td>\n",
              "      <td>1.3</td>\n",
              "    </tr>\n",
              "  </tbody>\n",
              "</table>\n",
              "</div>"
            ],
            "text/plain": [
              "   teamIdHome  teamIdAway season  ...  draft_number_pa pts_pa ast_pa\n",
              "0  1610610025  1610612752   1946  ...               68    2.4    2.0\n",
              "1  1610610025  1610612752   1946  ...                7    8.0    5.7\n",
              "2  1610610025  1610612752   1946  ...               19    4.6    2.6\n",
              "3  1610610025  1610612752   1946  ...               98    1.1    0.8\n",
              "4  1610610025  1610612752   1946  ...               33    3.3    1.3\n",
              "\n",
              "[5 rows x 20 columns]"
            ]
          },
          "metadata": {
            "tags": []
          },
          "execution_count": 10
        }
      ]
    },
    {
      "cell_type": "code",
      "metadata": {
        "colab": {
          "base_uri": "https://localhost:8080/"
        },
        "id": "NQXRMGnf2Ryz",
        "outputId": "ae7164e6-3f86-4fc7-8956-dfc8d912f431"
      },
      "source": [
        "check = df.isnull().values.any()\n",
        "check"
      ],
      "execution_count": null,
      "outputs": [
        {
          "output_type": "execute_result",
          "data": {
            "text/plain": [
              "False"
            ]
          },
          "metadata": {
            "tags": []
          },
          "execution_count": 21
        }
      ]
    },
    {
      "cell_type": "code",
      "metadata": {
        "colab": {
          "base_uri": "https://localhost:8080/"
        },
        "id": "IVfP8jAI2wJg",
        "outputId": "5ab5970a-9f09-4180-c571-b52a773cadad"
      },
      "source": [
        "df.info()"
      ],
      "execution_count": null,
      "outputs": [
        {
          "output_type": "stream",
          "text": [
            "<class 'pandas.core.frame.DataFrame'>\n",
            "RangeIndex: 1363488 entries, 0 to 1363487\n",
            "Data columns (total 21 columns):\n",
            " #   Column             Non-Null Count    Dtype  \n",
            "---  ------             --------------    -----  \n",
            " 0   teamIdHome         1363488 non-null  object \n",
            " 1   teamIdAway         1363488 non-null  object \n",
            " 2   season             1363488 non-null  object \n",
            " 3   win                1363488 non-null  int64  \n",
            " 4   abbreviation_home  1363488 non-null  object \n",
            " 5   abbreviation_away  1363488 non-null  object \n",
            " 6   height_ph          1363488 non-null  float64\n",
            " 7   weight_ph          1363488 non-null  float64\n",
            " 8   draft_year_ph      1363488 non-null  object \n",
            " 9   draft_round_ph     1363488 non-null  object \n",
            " 10  draft_number_ph    1363488 non-null  object \n",
            " 11  pts_ph             1363488 non-null  float64\n",
            " 12  ast_ph             1363488 non-null  float64\n",
            " 13  height_pa          1363488 non-null  float64\n",
            " 14  weight_pa          1363488 non-null  float64\n",
            " 15  draft_year_pa      1363488 non-null  object \n",
            " 16  draft_round_pa     1363488 non-null  object \n",
            " 17  draft_number_pa    1363488 non-null  object \n",
            " 18  pts_pa             1363488 non-null  float64\n",
            " 19  ast_pa             1363488 non-null  float64\n",
            " 20  probWin            1363488 non-null  float64\n",
            "dtypes: float64(9), int64(1), object(11)\n",
            "memory usage: 218.5+ MB\n"
          ],
          "name": "stdout"
        }
      ]
    },
    {
      "cell_type": "code",
      "metadata": {
        "id": "5WV7e5wFswd_"
      },
      "source": [
        "seasons = df.season.unique()\n",
        "teams = df.teamIdHome.unique()"
      ],
      "execution_count": null,
      "outputs": []
    },
    {
      "cell_type": "code",
      "metadata": {
        "colab": {
          "base_uri": "https://localhost:8080/"
        },
        "id": "QI89289AtLz3",
        "outputId": "07cc7c22-5e54-4eda-9648-0c1c45c657e8"
      },
      "source": [
        "seasons"
      ],
      "execution_count": null,
      "outputs": [
        {
          "output_type": "execute_result",
          "data": {
            "text/plain": [
              "array(['1946', '1947', '1948', '1949', '1951', '1952', '1953', '1954',\n",
              "       '1955', '1956', '1957', '1958', '1959', '1960', '1961', '1962',\n",
              "       '1963', '1964', '1965', '1966', '1967', '1968', '1969', '1970',\n",
              "       '1971', '1972', '1973', '1974', '1975', '1976', '1977', '1978',\n",
              "       '1979', '1980', '1981', '1982', '1983', '1984', '1985', '1986',\n",
              "       '1987', '1988', '1989', '1990', '1991', '1992', '1993', '1994',\n",
              "       '1995', '1996', '1997', '1998', '1999', '2000', '2001', '2002',\n",
              "       '2003', '2004', '2005', '2006', '2007', '2008', '2009', '2010',\n",
              "       '2011', '2012', '2013', '2014', '2015', '2016', '2017', '2018',\n",
              "       '2019'], dtype=object)"
            ]
          },
          "metadata": {
            "tags": []
          },
          "execution_count": 12
        }
      ]
    },
    {
      "cell_type": "code",
      "metadata": {
        "colab": {
          "base_uri": "https://localhost:8080/"
        },
        "id": "6ucpJWbKtaw3",
        "outputId": "0546f510-2fcd-43fd-dd40-0a8d43e79016"
      },
      "source": [
        "teams"
      ],
      "execution_count": null,
      "outputs": [
        {
          "output_type": "execute_result",
          "data": {
            "text/plain": [
              "array(['1610610025', '1610612744', '1610612752', '1610612765',\n",
              "       '1610610032', '1610610033', '1610612737', '1610612758',\n",
              "       '1610610024', '1610612747', '1610612738', '1610612764',\n",
              "       '1610612741', '1610612745', '1610612756', '1610612749',\n",
              "       '1610612760', '1610612746', '1610612757', '1610612739',\n",
              "       '1610612754', '1610612743', '1610612751', '1610612742',\n",
              "       '1610612748', '1610612750', '1610612761', '1610612755',\n",
              "       '1610612763', '1610612766', '1610612759', '1610612740',\n",
              "       '1610612762', '1610612753'], dtype=object)"
            ]
          },
          "metadata": {
            "tags": []
          },
          "execution_count": 13
        }
      ]
    },
    {
      "cell_type": "code",
      "metadata": {
        "colab": {
          "base_uri": "https://localhost:8080/"
        },
        "id": "3oTQpeba1Vdd",
        "outputId": "8bbf1b83-f007-448b-a131-22d7a541a9a9"
      },
      "source": [
        "dictwlTeam = {}\n",
        "for team in teams:\n",
        "  dictwlTeam[team] = {\"wins\": 0, \"loses\": 0, \"total\": 0, \"prob\": 0.0}\n",
        "\n",
        "dictwlTeam"
      ],
      "execution_count": null,
      "outputs": [
        {
          "output_type": "execute_result",
          "data": {
            "text/plain": [
              "{'1610610024': {'loses': 0, 'prob': 0.0, 'total': 0, 'wins': 0},\n",
              " '1610610025': {'loses': 0, 'prob': 0.0, 'total': 0, 'wins': 0},\n",
              " '1610610032': {'loses': 0, 'prob': 0.0, 'total': 0, 'wins': 0},\n",
              " '1610610033': {'loses': 0, 'prob': 0.0, 'total': 0, 'wins': 0},\n",
              " '1610612737': {'loses': 0, 'prob': 0.0, 'total': 0, 'wins': 0},\n",
              " '1610612738': {'loses': 0, 'prob': 0.0, 'total': 0, 'wins': 0},\n",
              " '1610612739': {'loses': 0, 'prob': 0.0, 'total': 0, 'wins': 0},\n",
              " '1610612740': {'loses': 0, 'prob': 0.0, 'total': 0, 'wins': 0},\n",
              " '1610612741': {'loses': 0, 'prob': 0.0, 'total': 0, 'wins': 0},\n",
              " '1610612742': {'loses': 0, 'prob': 0.0, 'total': 0, 'wins': 0},\n",
              " '1610612743': {'loses': 0, 'prob': 0.0, 'total': 0, 'wins': 0},\n",
              " '1610612744': {'loses': 0, 'prob': 0.0, 'total': 0, 'wins': 0},\n",
              " '1610612745': {'loses': 0, 'prob': 0.0, 'total': 0, 'wins': 0},\n",
              " '1610612746': {'loses': 0, 'prob': 0.0, 'total': 0, 'wins': 0},\n",
              " '1610612747': {'loses': 0, 'prob': 0.0, 'total': 0, 'wins': 0},\n",
              " '1610612748': {'loses': 0, 'prob': 0.0, 'total': 0, 'wins': 0},\n",
              " '1610612749': {'loses': 0, 'prob': 0.0, 'total': 0, 'wins': 0},\n",
              " '1610612750': {'loses': 0, 'prob': 0.0, 'total': 0, 'wins': 0},\n",
              " '1610612751': {'loses': 0, 'prob': 0.0, 'total': 0, 'wins': 0},\n",
              " '1610612752': {'loses': 0, 'prob': 0.0, 'total': 0, 'wins': 0},\n",
              " '1610612753': {'loses': 0, 'prob': 0.0, 'total': 0, 'wins': 0},\n",
              " '1610612754': {'loses': 0, 'prob': 0.0, 'total': 0, 'wins': 0},\n",
              " '1610612755': {'loses': 0, 'prob': 0.0, 'total': 0, 'wins': 0},\n",
              " '1610612756': {'loses': 0, 'prob': 0.0, 'total': 0, 'wins': 0},\n",
              " '1610612757': {'loses': 0, 'prob': 0.0, 'total': 0, 'wins': 0},\n",
              " '1610612758': {'loses': 0, 'prob': 0.0, 'total': 0, 'wins': 0},\n",
              " '1610612759': {'loses': 0, 'prob': 0.0, 'total': 0, 'wins': 0},\n",
              " '1610612760': {'loses': 0, 'prob': 0.0, 'total': 0, 'wins': 0},\n",
              " '1610612761': {'loses': 0, 'prob': 0.0, 'total': 0, 'wins': 0},\n",
              " '1610612762': {'loses': 0, 'prob': 0.0, 'total': 0, 'wins': 0},\n",
              " '1610612763': {'loses': 0, 'prob': 0.0, 'total': 0, 'wins': 0},\n",
              " '1610612764': {'loses': 0, 'prob': 0.0, 'total': 0, 'wins': 0},\n",
              " '1610612765': {'loses': 0, 'prob': 0.0, 'total': 0, 'wins': 0},\n",
              " '1610612766': {'loses': 0, 'prob': 0.0, 'total': 0, 'wins': 0}}"
            ]
          },
          "metadata": {
            "tags": []
          },
          "execution_count": 14
        }
      ]
    },
    {
      "cell_type": "code",
      "metadata": {
        "id": "SOz29OEKukuK"
      },
      "source": [
        "for row in df.itertuples():\n",
        "  if row.win == 0:\n",
        "    dictwlTeam[row.teamIdHome][\"wins\"] += 1;\n",
        "  else:\n",
        "    dictwlTeam[row.teamIdHome][\"loses\"] += 1; \n",
        "  dictwlTeam[row.teamIdHome][\"total\"] += 1; \n"
      ],
      "execution_count": null,
      "outputs": []
    },
    {
      "cell_type": "code",
      "metadata": {
        "id": "xfQPWIM63ktq",
        "colab": {
          "base_uri": "https://localhost:8080/"
        },
        "outputId": "036ea13c-834f-4995-9bcc-5970f4999964"
      },
      "source": [
        "dictwlTeam"
      ],
      "execution_count": null,
      "outputs": [
        {
          "output_type": "execute_result",
          "data": {
            "text/plain": [
              "{'1610610024': {'loses': 1214, 'prob': 0.0, 'total': 2360, 'wins': 1146},\n",
              " '1610610025': {'loses': 1018, 'prob': 0.0, 'total': 3531, 'wins': 2513},\n",
              " '1610610032': {'loses': 807, 'prob': 0.0, 'total': 1193, 'wins': 386},\n",
              " '1610610033': {'loses': 59, 'prob': 0.0, 'total': 436, 'wins': 377},\n",
              " '1610612737': {'loses': 29520, 'prob': 0.0, 'total': 72832, 'wins': 43312},\n",
              " '1610612738': {'loses': 16670, 'prob': 0.0, 'total': 48742, 'wins': 32072},\n",
              " '1610612739': {'loses': 27246, 'prob': 0.0, 'total': 48198, 'wins': 20952},\n",
              " '1610612740': {'loses': 1042, 'prob': 0.0, 'total': 3143, 'wins': 2101},\n",
              " '1610612741': {'loses': 15187, 'prob': 0.0, 'total': 36903, 'wins': 21716},\n",
              " '1610612742': {'loses': 19382, 'prob': 0.0, 'total': 34714, 'wins': 15332},\n",
              " '1610612743': {'loses': 11182, 'prob': 0.0, 'total': 38150, 'wins': 26968},\n",
              " '1610612744': {'loses': 53153, 'prob': 0.0, 'total': 118952, 'wins': 65799},\n",
              " '1610612745': {'loses': 13955, 'prob': 0.0, 'total': 42337, 'wins': 28382},\n",
              " '1610612746': {'loses': 44468, 'prob': 0.0, 'total': 83508, 'wins': 39040},\n",
              " '1610612747': {'loses': 12631, 'prob': 0.0, 'total': 47505, 'wins': 34874},\n",
              " '1610612748': {'loses': 12385, 'prob': 0.0, 'total': 18568, 'wins': 6183},\n",
              " '1610612749': {'loses': 14253, 'prob': 0.0, 'total': 48874, 'wins': 34621},\n",
              " '1610612750': {'loses': 5109, 'prob': 0.0, 'total': 8908, 'wins': 3799},\n",
              " '1610612751': {'loses': 20592, 'prob': 0.0, 'total': 39170, 'wins': 18578},\n",
              " '1610612752': {'loses': 34721, 'prob': 0.0, 'total': 79120, 'wins': 44399},\n",
              " '1610612753': {'loses': 1992, 'prob': 0.0, 'total': 3166, 'wins': 1174},\n",
              " '1610612754': {'loses': 20210, 'prob': 0.0, 'total': 42868, 'wins': 22658},\n",
              " '1610612755': {'loses': 6823, 'prob': 0.0, 'total': 15427, 'wins': 8604},\n",
              " '1610612756': {'loses': 27017, 'prob': 0.0, 'total': 65898, 'wins': 38881},\n",
              " '1610612757': {'loses': 26199, 'prob': 0.0, 'total': 69300, 'wins': 43101},\n",
              " '1610612758': {'loses': 34049, 'prob': 0.0, 'total': 78705, 'wins': 44656},\n",
              " '1610612759': {'loses': 807, 'prob': 0.0, 'total': 5367, 'wins': 4560},\n",
              " '1610612760': {'loses': 15782, 'prob': 0.0, 'total': 44959, 'wins': 29177},\n",
              " '1610612761': {'loses': 3791, 'prob': 0.0, 'total': 9150, 'wins': 5359},\n",
              " '1610612762': {'loses': 3778, 'prob': 0.0, 'total': 10747, 'wins': 6969},\n",
              " '1610612763': {'loses': 6125, 'prob': 0.0, 'total': 11722, 'wins': 5597},\n",
              " '1610612764': {'loses': 41724, 'prob': 0.0, 'total': 103413, 'wins': 61689},\n",
              " '1610612765': {'loses': 50764, 'prob': 0.0, 'total': 119155, 'wins': 68391},\n",
              " '1610612766': {'loses': 2872, 'prob': 0.0, 'total': 6467, 'wins': 3595}}"
            ]
          },
          "metadata": {
            "tags": []
          },
          "execution_count": 16
        }
      ]
    },
    {
      "cell_type": "code",
      "metadata": {
        "id": "YknPFfFk2qej"
      },
      "source": [
        "for team in teams:\n",
        "  dictwlTeam[team][\"prob\"] = dictwlTeam[team][\"wins\"] / dictwlTeam[team][\"total\"]"
      ],
      "execution_count": null,
      "outputs": []
    },
    {
      "cell_type": "code",
      "metadata": {
        "id": "mS4WGLCe9O3g"
      },
      "source": [
        "prob = [0.0] * len(df)\n",
        "df['probWin'] = prob\n",
        "for row in df.itertuples():\n",
        "  df.at[row.Index, 'probWin'] = dictwlTeam[row.teamIdHome]['prob']"
      ],
      "execution_count": null,
      "outputs": []
    },
    {
      "cell_type": "code",
      "metadata": {
        "id": "1QsBHhggO0f6",
        "colab": {
          "base_uri": "https://localhost:8080/"
        },
        "outputId": "0ce7ddc2-898d-4872-ff9c-975d4fb71d61"
      },
      "source": [
        "df.probWin"
      ],
      "execution_count": null,
      "outputs": [
        {
          "output_type": "execute_result",
          "data": {
            "text/plain": [
              "0          0.711696\n",
              "1          0.711696\n",
              "2          0.711696\n",
              "3          0.711696\n",
              "4          0.711696\n",
              "             ...   \n",
              "1363483    0.585683\n",
              "1363484    0.585683\n",
              "1363485    0.585683\n",
              "1363486    0.585683\n",
              "1363487    0.585683\n",
              "Name: probWin, Length: 1363488, dtype: float64"
            ]
          },
          "metadata": {
            "tags": []
          },
          "execution_count": 71
        }
      ]
    },
    {
      "cell_type": "code",
      "metadata": {
        "colab": {
          "base_uri": "https://localhost:8080/",
          "height": 244
        },
        "id": "AW7SjFkEAB3e",
        "outputId": "2f8fb79a-8f65-4b0b-95b1-db4e1d3f541e"
      },
      "source": [
        "df.head()"
      ],
      "execution_count": null,
      "outputs": [
        {
          "output_type": "execute_result",
          "data": {
            "text/html": [
              "<div>\n",
              "<style scoped>\n",
              "    .dataframe tbody tr th:only-of-type {\n",
              "        vertical-align: middle;\n",
              "    }\n",
              "\n",
              "    .dataframe tbody tr th {\n",
              "        vertical-align: top;\n",
              "    }\n",
              "\n",
              "    .dataframe thead th {\n",
              "        text-align: right;\n",
              "    }\n",
              "</style>\n",
              "<table border=\"1\" class=\"dataframe\">\n",
              "  <thead>\n",
              "    <tr style=\"text-align: right;\">\n",
              "      <th></th>\n",
              "      <th>teamIdHome</th>\n",
              "      <th>teamIdAway</th>\n",
              "      <th>season</th>\n",
              "      <th>win</th>\n",
              "      <th>abbreviation_home</th>\n",
              "      <th>abbreviation_away</th>\n",
              "      <th>height_ph</th>\n",
              "      <th>weight_ph</th>\n",
              "      <th>draft_year_ph</th>\n",
              "      <th>draft_round_ph</th>\n",
              "      <th>draft_number_ph</th>\n",
              "      <th>pts_ph</th>\n",
              "      <th>ast_ph</th>\n",
              "      <th>height_pa</th>\n",
              "      <th>weight_pa</th>\n",
              "      <th>draft_year_pa</th>\n",
              "      <th>draft_round_pa</th>\n",
              "      <th>draft_number_pa</th>\n",
              "      <th>pts_pa</th>\n",
              "      <th>ast_pa</th>\n",
              "      <th>probWin</th>\n",
              "    </tr>\n",
              "  </thead>\n",
              "  <tbody>\n",
              "    <tr>\n",
              "      <th>0</th>\n",
              "      <td>1610610025</td>\n",
              "      <td>1610612752</td>\n",
              "      <td>1946</td>\n",
              "      <td>0</td>\n",
              "      <td>CHS</td>\n",
              "      <td>NYK</td>\n",
              "      <td>75.0</td>\n",
              "      <td>215.0</td>\n",
              "      <td>1968</td>\n",
              "      <td>12</td>\n",
              "      <td>160</td>\n",
              "      <td>1.8</td>\n",
              "      <td>0.2</td>\n",
              "      <td>71.0</td>\n",
              "      <td>171.0</td>\n",
              "      <td>1987</td>\n",
              "      <td>3</td>\n",
              "      <td>68</td>\n",
              "      <td>2.4</td>\n",
              "      <td>2.0</td>\n",
              "      <td>0.711696</td>\n",
              "    </tr>\n",
              "    <tr>\n",
              "      <th>1</th>\n",
              "      <td>1610610025</td>\n",
              "      <td>1610612752</td>\n",
              "      <td>1946</td>\n",
              "      <td>0</td>\n",
              "      <td>CHS</td>\n",
              "      <td>NYK</td>\n",
              "      <td>75.0</td>\n",
              "      <td>215.0</td>\n",
              "      <td>1968</td>\n",
              "      <td>12</td>\n",
              "      <td>160</td>\n",
              "      <td>1.8</td>\n",
              "      <td>0.2</td>\n",
              "      <td>72.0</td>\n",
              "      <td>180.0</td>\n",
              "      <td>1949</td>\n",
              "      <td>1</td>\n",
              "      <td>7</td>\n",
              "      <td>8.0</td>\n",
              "      <td>5.7</td>\n",
              "      <td>0.711696</td>\n",
              "    </tr>\n",
              "    <tr>\n",
              "      <th>2</th>\n",
              "      <td>1610610025</td>\n",
              "      <td>1610612752</td>\n",
              "      <td>1946</td>\n",
              "      <td>0</td>\n",
              "      <td>CHS</td>\n",
              "      <td>NYK</td>\n",
              "      <td>75.0</td>\n",
              "      <td>215.0</td>\n",
              "      <td>1968</td>\n",
              "      <td>12</td>\n",
              "      <td>160</td>\n",
              "      <td>1.8</td>\n",
              "      <td>0.2</td>\n",
              "      <td>73.0</td>\n",
              "      <td>170.0</td>\n",
              "      <td>1960</td>\n",
              "      <td>3</td>\n",
              "      <td>19</td>\n",
              "      <td>4.6</td>\n",
              "      <td>2.6</td>\n",
              "      <td>0.711696</td>\n",
              "    </tr>\n",
              "    <tr>\n",
              "      <th>3</th>\n",
              "      <td>1610610025</td>\n",
              "      <td>1610612752</td>\n",
              "      <td>1946</td>\n",
              "      <td>0</td>\n",
              "      <td>CHS</td>\n",
              "      <td>NYK</td>\n",
              "      <td>75.0</td>\n",
              "      <td>215.0</td>\n",
              "      <td>1968</td>\n",
              "      <td>12</td>\n",
              "      <td>160</td>\n",
              "      <td>1.8</td>\n",
              "      <td>0.2</td>\n",
              "      <td>73.0</td>\n",
              "      <td>170.0</td>\n",
              "      <td>1966</td>\n",
              "      <td>12</td>\n",
              "      <td>98</td>\n",
              "      <td>1.1</td>\n",
              "      <td>0.8</td>\n",
              "      <td>0.711696</td>\n",
              "    </tr>\n",
              "    <tr>\n",
              "      <th>4</th>\n",
              "      <td>1610610025</td>\n",
              "      <td>1610612752</td>\n",
              "      <td>1946</td>\n",
              "      <td>0</td>\n",
              "      <td>CHS</td>\n",
              "      <td>NYK</td>\n",
              "      <td>75.0</td>\n",
              "      <td>215.0</td>\n",
              "      <td>1968</td>\n",
              "      <td>12</td>\n",
              "      <td>160</td>\n",
              "      <td>1.8</td>\n",
              "      <td>0.2</td>\n",
              "      <td>73.0</td>\n",
              "      <td>175.0</td>\n",
              "      <td>1961</td>\n",
              "      <td>4</td>\n",
              "      <td>33</td>\n",
              "      <td>3.3</td>\n",
              "      <td>1.3</td>\n",
              "      <td>0.711696</td>\n",
              "    </tr>\n",
              "  </tbody>\n",
              "</table>\n",
              "</div>"
            ],
            "text/plain": [
              "   teamIdHome  teamIdAway season  win  ... draft_number_pa pts_pa  ast_pa   probWin\n",
              "0  1610610025  1610612752   1946    0  ...              68    2.4     2.0  0.711696\n",
              "1  1610610025  1610612752   1946    0  ...               7    8.0     5.7  0.711696\n",
              "2  1610610025  1610612752   1946    0  ...              19    4.6     2.6  0.711696\n",
              "3  1610610025  1610612752   1946    0  ...              98    1.1     0.8  0.711696\n",
              "4  1610610025  1610612752   1946    0  ...              33    3.3     1.3  0.711696\n",
              "\n",
              "[5 rows x 21 columns]"
            ]
          },
          "metadata": {
            "tags": []
          },
          "execution_count": 19
        }
      ]
    },
    {
      "cell_type": "code",
      "metadata": {
        "id": "9dnB8a4iAlOa"
      },
      "source": [
        "df.teamIdAway = df.teamIdAway.apply(pd.to_numeric)\n",
        "df.teamIdHome = df.teamIdHome.apply(pd.to_numeric)\n",
        "df.season = df.season.apply(pd.to_numeric)\n",
        "df.height_ph = df.height_ph.apply(pd.to_numeric)\n",
        "df.weight_ph = df.weight_ph.apply(pd.to_numeric)\n",
        "df.draft_year_ph = df.draft_year_ph.apply(pd.to_numeric)\n",
        "df.draft_round_ph = df.draft_round_ph.apply(pd.to_numeric)\n",
        "df.draft_number_ph = df.draft_number_ph.apply(pd.to_numeric)\n",
        "df.pts_ph = df.pts_ph.apply(pd.to_numeric)\n",
        "df.ast_ph = df.ast_ph.apply(pd.to_numeric)\n",
        "df.height_pa = df.height_pa.apply(pd.to_numeric)\n",
        "df.weight_pa = df.weight_pa.apply(pd.to_numeric)\n",
        "df.draft_year_pa = df.draft_year_pa.apply(pd.to_numeric)\n",
        "df.draft_round_pa = df.draft_round_pa.apply(pd.to_numeric)\n",
        "df.draft_number_pa = df.draft_number_pa.apply(pd.to_numeric)\n",
        "df.pts_pa = df.pts_pa.apply(pd.to_numeric)\n",
        "df.ast_pa = df.ast_pa.apply(pd.to_numeric)"
      ],
      "execution_count": null,
      "outputs": []
    },
    {
      "cell_type": "code",
      "metadata": {
        "colab": {
          "base_uri": "https://localhost:8080/"
        },
        "id": "7-fcTf1Y4a16",
        "outputId": "28fc2a67-888a-42bb-e98d-8148dfd4de27"
      },
      "source": [
        "df.info()"
      ],
      "execution_count": null,
      "outputs": [
        {
          "output_type": "stream",
          "text": [
            "<class 'pandas.core.frame.DataFrame'>\n",
            "RangeIndex: 1363488 entries, 0 to 1363487\n",
            "Data columns (total 21 columns):\n",
            " #   Column             Non-Null Count    Dtype  \n",
            "---  ------             --------------    -----  \n",
            " 0   teamIdHome         1363488 non-null  int64  \n",
            " 1   teamIdAway         1363488 non-null  int64  \n",
            " 2   season             1363488 non-null  int64  \n",
            " 3   win                1363488 non-null  int64  \n",
            " 4   abbreviation_home  1363488 non-null  object \n",
            " 5   abbreviation_away  1363488 non-null  object \n",
            " 6   height_ph          1363488 non-null  float64\n",
            " 7   weight_ph          1363488 non-null  float64\n",
            " 8   draft_year_ph      1363488 non-null  int64  \n",
            " 9   draft_round_ph     1363488 non-null  int64  \n",
            " 10  draft_number_ph    1363488 non-null  int64  \n",
            " 11  pts_ph             1363488 non-null  float64\n",
            " 12  ast_ph             1363488 non-null  float64\n",
            " 13  height_pa          1363488 non-null  float64\n",
            " 14  weight_pa          1363488 non-null  float64\n",
            " 15  draft_year_pa      1363488 non-null  int64  \n",
            " 16  draft_round_pa     1363488 non-null  int64  \n",
            " 17  draft_number_pa    1363488 non-null  int64  \n",
            " 18  pts_pa             1363488 non-null  float64\n",
            " 19  ast_pa             1363488 non-null  float64\n",
            " 20  probWin            1363488 non-null  float64\n",
            "dtypes: float64(9), int64(10), object(2)\n",
            "memory usage: 218.5+ MB\n"
          ],
          "name": "stdout"
        }
      ]
    },
    {
      "cell_type": "code",
      "metadata": {
        "id": "5zRjcqp7CqBO"
      },
      "source": [
        "linear_reg = LinearRegression()"
      ],
      "execution_count": null,
      "outputs": []
    },
    {
      "cell_type": "code",
      "metadata": {
        "colab": {
          "base_uri": "https://localhost:8080/"
        },
        "id": "gYdm4wlDBH4J",
        "outputId": "5e6d5b08-43c2-4dba-90dd-5b8e253e20ed"
      },
      "source": [
        "X = df[['height_ph', 'weight_ph', 'draft_year_ph', 'pts_ph', 'ast_ph']]\n",
        "y = df['probWin']\n",
        "\n",
        "X_train, X_test, y_train, y_test = train_test_split(X, y,  test_size=0.33, random_state=42)\n",
        "linear_reg.fit(X_train, y_train)"
      ],
      "execution_count": null,
      "outputs": [
        {
          "output_type": "execute_result",
          "data": {
            "text/plain": [
              "LinearRegression(copy_X=True, fit_intercept=True, n_jobs=None, normalize=False)"
            ]
          },
          "metadata": {
            "tags": []
          },
          "execution_count": 26
        }
      ]
    },
    {
      "cell_type": "code",
      "metadata": {
        "colab": {
          "base_uri": "https://localhost:8080/"
        },
        "id": "Z78CvJrvC65q",
        "outputId": "63825d23-9615-4da5-9d13-363b43d32711"
      },
      "source": [
        "linear_reg.coef_"
      ],
      "execution_count": null,
      "outputs": [
        {
          "output_type": "execute_result",
          "data": {
            "text/plain": [
              "array([-0.00340923,  0.00031415, -0.00045218, -0.00208323, -0.00017381])"
            ]
          },
          "metadata": {
            "tags": []
          },
          "execution_count": 27
        }
      ]
    },
    {
      "cell_type": "code",
      "metadata": {
        "colab": {
          "base_uri": "https://localhost:8080/"
        },
        "id": "-asaVBaADEii",
        "outputId": "ec935eb6-cb79-4aca-a6c5-906e7d38abad"
      },
      "source": [
        "linear_reg.intercept_"
      ],
      "execution_count": null,
      "outputs": [
        {
          "output_type": "execute_result",
          "data": {
            "text/plain": [
              "1.6799523319037233"
            ]
          },
          "metadata": {
            "tags": []
          },
          "execution_count": 28
        }
      ]
    },
    {
      "cell_type": "code",
      "metadata": {
        "colab": {
          "base_uri": "https://localhost:8080/"
        },
        "id": "n7LkMGmfDTwK",
        "outputId": "5b00248c-f0e8-4ebd-b1e5-5113b666f154"
      },
      "source": [
        "df.ast_ph.unique()"
      ],
      "execution_count": null,
      "outputs": [
        {
          "output_type": "execute_result",
          "data": {
            "text/plain": [
              "array([0.2, 0. , 0.8, 0.6, 1.5, 1.8, 1. , 0.7, 0.9, 2.7, 0.5, 1.6, 1.1,\n",
              "       1.2, 2.9, 0.3, 0.1, 1.4, 0.4, 3.6, 1.3, 1.9, 1.7, 2. , 2.4, 2.2,\n",
              "       3. , 3.1, 2.5, 2.3, 4.9, 4. , 2.1, 4.7])"
            ]
          },
          "metadata": {
            "tags": []
          },
          "execution_count": 29
        }
      ]
    },
    {
      "cell_type": "code",
      "metadata": {
        "colab": {
          "base_uri": "https://localhost:8080/"
        },
        "id": "yhDKhh72D7nr",
        "outputId": "9aaecdba-24e5-457f-f8e0-23b2c61402fe"
      },
      "source": [
        "linear_reg.predict([[80, 264, 2021, 2.1, 1.5]])"
      ],
      "execution_count": null,
      "outputs": [
        {
          "output_type": "execute_result",
          "data": {
            "text/plain": [
              "array([0.57166887])"
            ]
          },
          "metadata": {
            "tags": []
          },
          "execution_count": 57
        }
      ]
    },
    {
      "cell_type": "code",
      "metadata": {
        "id": "tW2O60AJClce"
      },
      "source": [
        "from sklearn.metrics import r2_score"
      ],
      "execution_count": null,
      "outputs": []
    },
    {
      "cell_type": "code",
      "metadata": {
        "colab": {
          "base_uri": "https://localhost:8080/"
        },
        "id": "wYPlyO0xBjhf",
        "outputId": "06620acd-5dc6-4c96-e350-7d5424d6abdd"
      },
      "source": [
        "# r2_score(linear_reg.predict(X_test), y_test)\n",
        "r2_score(y_test, linear_reg.predict(X_test))"
      ],
      "execution_count": null,
      "outputs": [
        {
          "output_type": "execute_result",
          "data": {
            "text/plain": [
              "-0.09962072784061249"
            ]
          },
          "metadata": {
            "tags": []
          },
          "execution_count": 68
        }
      ]
    },
    {
      "cell_type": "markdown",
      "metadata": {
        "id": "llhcEvkVMUJ2"
      },
      "source": [
        "# Graficas\n"
      ]
    },
    {
      "cell_type": "code",
      "metadata": {
        "id": "bE8xemtaHZ5c"
      },
      "source": [
        "prob_mean = np.mean(df.probWin.values)"
      ],
      "execution_count": null,
      "outputs": []
    },
    {
      "cell_type": "code",
      "metadata": {
        "id": "hDoFsiLUGwDZ"
      },
      "source": [
        "def plot_campo(campo):\n",
        "  campo_mean = np.mean(campo.values)\n",
        "  xy = 0\n",
        "  x2 = 0\n",
        "\n",
        "  for i in range(len(campo.values)):\n",
        "    xy += (campo.values[i] - campo_mean) * (df.probWin.values[i] - prob_mean)\n",
        "    x2 += (campo.values[i] - campo_mean) ** 2\n",
        "  \n",
        "  d = xy / x2\n",
        "  m = prob_mean - (d * campo_mean)\n",
        "\n",
        "  xmax = np.max(campo.values)\n",
        "  xmin = np.min(campo.values)\n",
        "\n",
        "  posx = np.linspace(xmin, xmax, 1000)\n",
        "  posy = m + d * posx\n",
        "\n",
        "  plt.figure(figsize=(8,5))\n",
        "  plt.plot(posx, posy, color='black', linewidth=2)\n",
        "  plt.scatter(campo.values, df.probWin.values,  alpha=0.7, color ='green')"
      ],
      "execution_count": null,
      "outputs": []
    },
    {
      "cell_type": "code",
      "metadata": {
        "colab": {
          "base_uri": "https://localhost:8080/",
          "height": 320
        },
        "id": "q-qdYiwAIjH6",
        "outputId": "ce039a8e-7145-4c5c-9b71-db4de3c7263d"
      },
      "source": [
        "plot_campo(df.weight_ph)"
      ],
      "execution_count": null,
      "outputs": [
        {
          "output_type": "display_data",
          "data": {
            "image/png": "[encoded data removed]",
            "text/plain": [
              "<Figure size 576x360 with 1 Axes>"
            ]
          },
          "metadata": {
            "tags": [],
            "needs_background": "light"
          }
        }
      ]
    },
    {
      "cell_type": "code",
      "metadata": {
        "colab": {
          "base_uri": "https://localhost:8080/",
          "height": 320
        },
        "id": "Eu7cX4GwL1vU",
        "outputId": "b1eceff4-469d-412e-ccaf-e3f2663229f9"
      },
      "source": [
        "plot_campo(df.height_ph)"
      ],
      "execution_count": null,
      "outputs": [
        {
          "output_type": "display_data",
          "data": {
            "image/png": "[encoded data removed]",
            "text/plain": [
              "<Figure size 576x360 with 1 Axes>"
            ]
          },
          "metadata": {
            "tags": [],
            "needs_background": "light"
          }
        }
      ]
    },
    {
      "cell_type": "code",
      "metadata": {
        "colab": {
          "base_uri": "https://localhost:8080/",
          "height": 320
        },
        "id": "qQEg0mUiL85T",
        "outputId": "552e2148-eecf-4620-a2f7-1e96271f9d24"
      },
      "source": [
        "plot_campo(df.draft_year_ph)"
      ],
      "execution_count": null,
      "outputs": [
        {
          "output_type": "display_data",
          "data": {
            "image/png": "[encoded data removed]",
            "text/plain": [
              "<Figure size 576x360 with 1 Axes>"
            ]
          },
          "metadata": {
            "tags": [],
            "needs_background": "light"
          }
        }
      ]
    },
    {
      "cell_type": "code",
      "metadata": {
        "colab": {
          "base_uri": "https://localhost:8080/",
          "height": 320
        },
        "id": "1db3jYuubPK7",
        "outputId": "b3488fa2-706b-400c-a6b1-7ca3da61fc03"
      },
      "source": [
        "plot_campo(df.pts_ph)"
      ],
      "execution_count": null,
      "outputs": [
        {
          "output_type": "display_data",
          "data": {
            "image/png": "[encoded data removed]",
            "text/plain": [
              "<Figure size 576x360 with 1 Axes>"
            ]
          },
          "metadata": {
            "tags": [],
            "needs_background": "light"
          }
        }
      ]
    },
    {
      "cell_type": "code",
      "metadata": {
        "colab": {
          "base_uri": "https://localhost:8080/",
          "height": 320
        },
        "id": "03o6ybSrbY-e",
        "outputId": "1f742c32-6429-42ea-b631-8dd1599db62f"
      },
      "source": [
        "plot_campo(df.ast_ph)"
      ],
      "execution_count": null,
      "outputs": [
        {
          "output_type": "display_data",
          "data": {
            "image/png": "[encoded data removed]",
            "text/plain": [
              "<Figure size 576x360 with 1 Axes>"
            ]
          },
          "metadata": {
            "tags": [],
            "needs_background": "light"
          }
        }
      ]
    },
    {
      "cell_type": "markdown",
      "metadata": {
        "id": "X3KaLyUlNKxA"
      },
      "source": [
        "# Datos especiales\n"
      ]
    },
    {
      "cell_type": "code",
      "metadata": {
        "colab": {
          "base_uri": "https://localhost:8080/"
        },
        "id": "u5L-qEftNPrS",
        "outputId": "a2cb99d9-b207-43dd-ccbd-7e061ddd345c"
      },
      "source": [
        "mean_squared_error(linear_reg.predict(X_test), y_test, squared=False)"
      ],
      "execution_count": null,
      "outputs": [
        {
          "output_type": "execute_result",
          "data": {
            "text/plain": [
              "0.08178488103729929"
            ]
          },
          "metadata": {
            "tags": []
          },
          "execution_count": 38
        }
      ]
    },
    {
      "cell_type": "code",
      "metadata": {
        "colab": {
          "base_uri": "https://localhost:8080/",
          "height": 297
        },
        "id": "8qsuQ7kwRHek",
        "outputId": "1f878e6e-f88f-46bd-bf8c-017af3fb0284"
      },
      "source": [
        "X_test.describe()"
      ],
      "execution_count": null,
      "outputs": [
        {
          "output_type": "execute_result",
          "data": {
            "text/html": [
              "<div>\n",
              "<style scoped>\n",
              "    .dataframe tbody tr th:only-of-type {\n",
              "        vertical-align: middle;\n",
              "    }\n",
              "\n",
              "    .dataframe tbody tr th {\n",
              "        vertical-align: top;\n",
              "    }\n",
              "\n",
              "    .dataframe thead th {\n",
              "        text-align: right;\n",
              "    }\n",
              "</style>\n",
              "<table border=\"1\" class=\"dataframe\">\n",
              "  <thead>\n",
              "    <tr style=\"text-align: right;\">\n",
              "      <th></th>\n",
              "      <th>height_ph</th>\n",
              "      <th>weight_ph</th>\n",
              "      <th>draft_year_ph</th>\n",
              "      <th>pts_ph</th>\n",
              "      <th>ast_ph</th>\n",
              "    </tr>\n",
              "  </thead>\n",
              "  <tbody>\n",
              "    <tr>\n",
              "      <th>count</th>\n",
              "      <td>449952.000000</td>\n",
              "      <td>449952.000000</td>\n",
              "      <td>449952.000000</td>\n",
              "      <td>449952.000000</td>\n",
              "      <td>449952.000000</td>\n",
              "    </tr>\n",
              "    <tr>\n",
              "      <th>mean</th>\n",
              "      <td>77.981658</td>\n",
              "      <td>207.279214</td>\n",
              "      <td>1981.895720</td>\n",
              "      <td>2.726362</td>\n",
              "      <td>0.649966</td>\n",
              "    </tr>\n",
              "    <tr>\n",
              "      <th>std</th>\n",
              "      <td>3.313416</td>\n",
              "      <td>23.827512</td>\n",
              "      <td>16.324309</td>\n",
              "      <td>1.850814</td>\n",
              "      <td>0.684187</td>\n",
              "    </tr>\n",
              "    <tr>\n",
              "      <th>min</th>\n",
              "      <td>67.000000</td>\n",
              "      <td>150.000000</td>\n",
              "      <td>1947.000000</td>\n",
              "      <td>0.000000</td>\n",
              "      <td>0.000000</td>\n",
              "    </tr>\n",
              "    <tr>\n",
              "      <th>25%</th>\n",
              "      <td>76.000000</td>\n",
              "      <td>190.000000</td>\n",
              "      <td>1970.000000</td>\n",
              "      <td>1.500000</td>\n",
              "      <td>0.200000</td>\n",
              "    </tr>\n",
              "    <tr>\n",
              "      <th>50%</th>\n",
              "      <td>78.000000</td>\n",
              "      <td>205.000000</td>\n",
              "      <td>1979.000000</td>\n",
              "      <td>2.300000</td>\n",
              "      <td>0.500000</td>\n",
              "    </tr>\n",
              "    <tr>\n",
              "      <th>75%</th>\n",
              "      <td>80.000000</td>\n",
              "      <td>225.000000</td>\n",
              "      <td>1989.000000</td>\n",
              "      <td>3.500000</td>\n",
              "      <td>0.800000</td>\n",
              "    </tr>\n",
              "    <tr>\n",
              "      <th>max</th>\n",
              "      <td>87.000000</td>\n",
              "      <td>275.000000</td>\n",
              "      <td>2019.000000</td>\n",
              "      <td>12.100000</td>\n",
              "      <td>4.900000</td>\n",
              "    </tr>\n",
              "  </tbody>\n",
              "</table>\n",
              "</div>"
            ],
            "text/plain": [
              "           height_ph      weight_ph  ...         pts_ph         ast_ph\n",
              "count  449952.000000  449952.000000  ...  449952.000000  449952.000000\n",
              "mean       77.981658     207.279214  ...       2.726362       0.649966\n",
              "std         3.313416      23.827512  ...       1.850814       0.684187\n",
              "min        67.000000     150.000000  ...       0.000000       0.000000\n",
              "25%        76.000000     190.000000  ...       1.500000       0.200000\n",
              "50%        78.000000     205.000000  ...       2.300000       0.500000\n",
              "75%        80.000000     225.000000  ...       3.500000       0.800000\n",
              "max        87.000000     275.000000  ...      12.100000       4.900000\n",
              "\n",
              "[8 rows x 5 columns]"
            ]
          },
          "metadata": {
            "tags": []
          },
          "execution_count": 39
        }
      ]
    },
    {
      "cell_type": "code",
      "metadata": {
        "colab": {
          "base_uri": "https://localhost:8080/"
        },
        "id": "D57cjO0VPHMr",
        "outputId": "e6364908-e351-4bad-b74d-4eeebde5cf9b"
      },
      "source": [
        "Xconst = sm.add_constant(X_test.values)\n",
        "stat = sm.OLS(y_test, Xconst)\n",
        "print(stat.fit().summary())"
      ],
      "execution_count": null,
      "outputs": [
        {
          "output_type": "stream",
          "text": [
            "                            OLS Regression Results                            \n",
            "==============================================================================\n",
            "Dep. Variable:                probWin   R-squared:                       0.015\n",
            "Model:                            OLS   Adj. R-squared:                  0.015\n",
            "Method:                 Least Squares   F-statistic:                     1369.\n",
            "Date:                Mon, 31 May 2021   Prob (F-statistic):               0.00\n",
            "Time:                        19:30:39   Log-Likelihood:             4.8808e+05\n",
            "No. Observations:              449952   AIC:                        -9.761e+05\n",
            "Df Residuals:                  449946   BIC:                        -9.761e+05\n",
            "Df Model:                           5                                         \n",
            "Covariance Type:            nonrobust                                         \n",
            "==============================================================================\n",
            "                 coef    std err          t      P>|t|      [0.025      0.975]\n",
            "------------------------------------------------------------------------------\n",
            "const          1.6570      0.016    102.333      0.000       1.625       1.689\n",
            "x1            -0.0033   6.74e-05    -49.444      0.000      -0.003      -0.003\n",
            "x2             0.0003   9.34e-06     32.303      0.000       0.000       0.000\n",
            "x3            -0.0004   8.11e-06    -54.544      0.000      -0.000      -0.000\n",
            "x4            -0.0021   7.92e-05    -26.432      0.000      -0.002      -0.002\n",
            "x5          1.428e-05      0.000      0.060      0.952      -0.000       0.000\n",
            "==============================================================================\n",
            "Omnibus:                     3611.849   Durbin-Watson:                   2.005\n",
            "Prob(Omnibus):                  0.000   Jarque-Bera (JB):             5192.708\n",
            "Skew:                          -0.093   Prob(JB):                         0.00\n",
            "Kurtosis:                       3.493   Cond. No.                     2.65e+05\n",
            "==============================================================================\n",
            "\n",
            "Warnings:\n",
            "[1] Standard Errors assume that the covariance matrix of the errors is correctly specified.\n",
            "[2] The condition number is large, 2.65e+05. This might indicate that there are\n",
            "strong multicollinearity or other numerical problems.\n"
          ],
          "name": "stdout"
        }
      ]
    },
    {
      "cell_type": "code",
      "metadata": {
        "id": "jYMYhaKBUHwT"
      },
      "source": [
        "from sklearn.metrics import classification_report, r2_score"
      ],
      "execution_count": null,
      "outputs": []
    },
    {
      "cell_type": "code",
      "metadata": {
        "id": "qa4_P4G6VHLQ"
      },
      "source": [
        "from sklearn.linear_model import LogisticRegression"
      ],
      "execution_count": null,
      "outputs": []
    },
    {
      "cell_type": "code",
      "metadata": {
        "id": "UkCFc737WY2l"
      },
      "source": [
        "log_regresion = LogisticRegression()"
      ],
      "execution_count": null,
      "outputs": []
    },
    {
      "cell_type": "code",
      "metadata": {
        "colab": {
          "base_uri": "https://localhost:8080/"
        },
        "id": "eFojQD_dWjpU",
        "outputId": "6351b85a-eabe-4051-90db-7fa898fa1579"
      },
      "source": [
        "X = df[['height_ph', 'weight_ph', 'draft_year_ph', 'pts_ph', 'ast_ph']]\n",
        "y = df['win']\n",
        "\n",
        "X_train, X_test, y_train, y_test = train_test_split(X, y,  test_size=0.33, random_state=42)\n",
        "log_regresion.fit(X_train, y_train)"
      ],
      "execution_count": null,
      "outputs": [
        {
          "output_type": "execute_result",
          "data": {
            "text/plain": [
              "LogisticRegression(C=1.0, class_weight=None, dual=False, fit_intercept=True,\n",
              "                   intercept_scaling=1, l1_ratio=None, max_iter=100,\n",
              "                   multi_class='auto', n_jobs=None, penalty='l2',\n",
              "                   random_state=None, solver='lbfgs', tol=0.0001, verbose=0,\n",
              "                   warm_start=False)"
            ]
          },
          "metadata": {
            "tags": []
          },
          "execution_count": 44
        }
      ]
    },
    {
      "cell_type": "code",
      "metadata": {
        "id": "b0mHNUDNW6Sc"
      },
      "source": [
        "predictions = log_regresion.predict(X_test)"
      ],
      "execution_count": null,
      "outputs": []
    },
    {
      "cell_type": "code",
      "metadata": {
        "colab": {
          "base_uri": "https://localhost:8080/"
        },
        "id": "BRpkAjzgXGP0",
        "outputId": "9f8bc233-b9a2-4a4f-e466-5d0cd88ab1ae"
      },
      "source": [
        "print(classification_report(y_test, predictions))"
      ],
      "execution_count": null,
      "outputs": [
        {
          "output_type": "stream",
          "text": [
            "              precision    recall  f1-score   support\n",
            "\n",
            "           0       0.58      0.96      0.73    259292\n",
            "           1       0.54      0.06      0.11    190660\n",
            "\n",
            "    accuracy                           0.58    449952\n",
            "   macro avg       0.56      0.51      0.42    449952\n",
            "weighted avg       0.56      0.58      0.46    449952\n",
            "\n"
          ],
          "name": "stdout"
        }
      ]
    },
    {
      "cell_type": "code",
      "metadata": {
        "id": "kjOOheKe_0c9"
      },
      "source": [
        "from sklearn.metrics import confusion_matrix, roc_auc_score"
      ],
      "execution_count": null,
      "outputs": []
    },
    {
      "cell_type": "code",
      "metadata": {
        "colab": {
          "base_uri": "https://localhost:8080/"
        },
        "id": "ehG5JtQo747B",
        "outputId": "d313ba44-d97a-4474-9490-b89a88887e69"
      },
      "source": [
        "print(confusion_matrix(y_test, predictions))"
      ],
      "execution_count": null,
      "outputs": [
        {
          "output_type": "stream",
          "text": [
            "[[249283  10009]\n",
            " [178986  11674]]\n"
          ],
          "name": "stdout"
        }
      ]
    },
    {
      "cell_type": "code",
      "metadata": {
        "colab": {
          "base_uri": "https://localhost:8080/"
        },
        "id": "xyBiKtB-AE8L",
        "outputId": "a71e0843-d23d-43ea-c32d-cc5c01a6969c"
      },
      "source": [
        "roc_auc_score(y_test, predictions)"
      ],
      "execution_count": null,
      "outputs": [
        {
          "output_type": "execute_result",
          "data": {
            "text/plain": [
              "0.5113140727737142"
            ]
          },
          "metadata": {
            "tags": []
          },
          "execution_count": 70
        }
      ]
    },
    {
      "cell_type": "code",
      "metadata": {
        "id": "vEjcCebCJLS5"
      },
      "source": [
        ""
      ],
      "execution_count": null,
      "outputs": []
    }
  ]
}