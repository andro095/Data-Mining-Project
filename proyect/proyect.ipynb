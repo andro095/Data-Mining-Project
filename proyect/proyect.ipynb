{
  "nbformat": 4,
  "nbformat_minor": 0,
  "metadata": {
    "colab": {
      "name": "proyect.ipynb",
      "provenance": [],
      "authorship_tag": "ABX9TyOCNtEwun+/cPoeNY+WMXuI",
      "include_colab_link": true
    },
    "kernelspec": {
      "name": "python3",
      "display_name": "Python 3"
    },
    "language_info": {
      "name": "python"
    }
  },
  "cells": [
    {
      "cell_type": "markdown",
      "metadata": {
        "id": "view-in-github",
        "colab_type": "text"
      },
      "source": [
        "<a href=\"https://colab.research.google.com/github/andro095/Data-Mining-Proyect/blob/master/proyect/proyect.ipynb\" target=\"_parent\"><img src=\"https://colab.research.google.com/assets/colab-badge.svg\" alt=\"Open In Colab\"/></a>"
      ]
    },
    {
      "cell_type": "markdown",
      "metadata": {
        "id": "pA7LCPeBpGFb"
      },
      "source": [
        "# **Data Mining Proyect**\n",
        "\n",
        "\n",
        "---\n",
        "\n",
        "\n",
        "## **Autors:**\n",
        "\n",
        "\n",
        "*   ### André Rodríguez 18332\n",
        "*   ### Cesar Rodas 16776\n",
        "*   ### Cristina Bautista 161260\n",
        "*   ### Abril Palencia 18198\n",
        "\n",
        "\n",
        "---\n",
        "\n",
        "\n",
        "\n",
        "## **About**\n",
        "\n",
        "Works\n",
        "\n",
        "\n"
      ]
    },
    {
      "cell_type": "code",
      "metadata": {
        "id": "IYtWGvtIpFwD"
      },
      "source": [
        ""
      ],
      "execution_count": null,
      "outputs": []
    }
  ]
}