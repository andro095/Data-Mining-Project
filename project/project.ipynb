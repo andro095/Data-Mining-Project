{
  "nbformat": 4,
  "nbformat_minor": 0,
  "metadata": {
    "colab": {
      "name": "project.ipynb",
      "provenance": [],
      "mount_file_id": "1pkSTt3PT8X9O0q2BrYqp2BJT1bM6dXrC",
      "authorship_tag": "ABX9TyMve9nLFoJsna433zk64npd",
      "include_colab_link": true
    },
    "kernelspec": {
      "name": "python3",
      "display_name": "Python 3"
    },
    "language_info": {
      "name": "python"
    }
  },
  "cells": [
    {
      "cell_type": "markdown",
      "metadata": {
        "id": "view-in-github",
        "colab_type": "text"
      },
      "source": [
        "<a href=\"https://colab.research.google.com/github/andro095/Data-Mining-Project/blob/master/project/project.ipynb\" target=\"_parent\"><img src=\"https://colab.research.google.com/assets/colab-badge.svg\" alt=\"Open In Colab\"/></a>"
      ]
    },
    {
      "cell_type": "markdown",
      "metadata": {
        "id": "pA7LCPeBpGFb"
      },
      "source": [
        "# **Proyecto de Modelo de Predicción**\n",
        "\n",
        "\n",
        "---\n",
        "\n",
        "\n",
        "## **Autores:**\n",
        "\n",
        "\n",
        "*   ### André Rodríguez 18332\n",
        "*   ### Cesar Rodas 16776\n",
        "*   ### Cristina Bautista 161260\n",
        "*   ### Abril Palencia 18198\n",
        "\n",
        "\n",
        "---\n",
        "\n",
        "\n",
        "\n",
        "## **Acerca de:**\n",
        "\n",
        "Works\n",
        "\n",
        "\n",
        "---\n",
        "\n",
        "## **Base de datos**\n",
        "\n",
        "Para obtener la base de datos, hacer clic [aquí](https://bit.ly/2Rqw7NB)\n",
        "\n",
        "\n",
        "---\n",
        "\n",
        "## **Tabla de contenidos**\n",
        "\n",
        "\n",
        "\n",
        "1.   [Sección 1: Extracción de Datos](#scrollTo=c6wPKt2Z0P3Z)\n",
        "2.   [Sección 2: Depuración de Datos](#scrollTo=8AOfhxDO0KbT)\n",
        "\n",
        "\n",
        "\n"
      ]
    },
    {
      "cell_type": "markdown",
      "metadata": {
        "id": "YMpWZwYHvh_Q"
      },
      "source": [
        "## **Código**\n"
      ]
    },
    {
      "cell_type": "markdown",
      "metadata": {
        "id": "c6wPKt2Z0P3Z"
      },
      "source": [
        "### Sección 1: Extracción de datos de Datos\n",
        "Realizamos la importación de liberías para la lectura de la base de datos"
      ]
    },
    {
      "cell_type": "code",
      "metadata": {
        "id": "qP7Gkpnvvhi2"
      },
      "source": [
        "import sqlite3 as sql\n",
        "import pandas as pd"
      ],
      "execution_count": 1,
      "outputs": []
    },
    {
      "cell_type": "markdown",
      "metadata": {
        "id": "3L9AuUjJ1zB5"
      },
      "source": [
        "Leemos la base de datos y la trasladamos a un dataframe:"
      ]
    },
    {
      "cell_type": "code",
      "metadata": {
        "id": "IYtWGvtIpFwD",
        "colab": {
          "base_uri": "https://localhost:8080/"
        },
        "outputId": "c1756f32-f972-4c77-b854-c00d0c0de0a8"
      },
      "source": [
        "dfs = {}\n",
        "con = sql.connect(\"/content/drive/MyDrive/UVG/4to Año/1er Semestre/Minería de Datos/16va semana/Data Mining Project/Code/basketball.sqlite\")"
      ],
      "execution_count": 18,
      "outputs": [
        {
          "output_type": "stream",
          "text": [
            "['Player', 'Team', 'Team_Attributes', 'Team_History', 'Player_Attributes', 'Game_Officials', 'Game_Inactive_Players', 'Team_Salary', 'Player_Salary', 'Draft', 'Draft_Combine', 'Player_Photos', 'Player_Bios', 'Game', 'News', 'News_Missing']\n"
          ],
          "name": "stdout"
        }
      ]
    },
    {
      "cell_type": "code",
      "metadata": {
        "id": "nOFepKsG92Lj"
      },
      "source": [
        "cur = con.cursor()\n",
        "cur.execute('SELECT name FROM sqlite_master WHERE type = \"table\"')\n",
        "tbnames = cur.fetchall()"
      ],
      "execution_count": null,
      "outputs": []
    },
    {
      "cell_type": "code",
      "metadata": {
        "id": "7FI4963H94zc"
      },
      "source": [
        "for elem in tbnames:\n",
        "  dfs[elem[0]] = pd.read_sql_query(\"SELECT * from {}\".format(elem[0]), con)"
      ],
      "execution_count": null,
      "outputs": []
    },
    {
      "cell_type": "code",
      "metadata": {
        "colab": {
          "base_uri": "https://localhost:8080/"
        },
        "id": "bWtelAQ4-GKZ",
        "outputId": "b5d9ce39-84f3-4260-9b97-7ae3acf1cee0"
      },
      "source": [
        "print(list(dfs.keys()))\n",
        "print(dfs['Player'].head())"
      ],
      "execution_count": 19,
      "outputs": [
        {
          "output_type": "stream",
          "text": [
            "['Player', 'Team', 'Team_Attributes', 'Team_History', 'Player_Attributes', 'Game_Officials', 'Game_Inactive_Players', 'Team_Salary', 'Player_Salary', 'Draft', 'Draft_Combine', 'Player_Photos', 'Player_Bios', 'Game', 'News', 'News_Missing']\n",
            "      id            full_name first_name     last_name  is_active\n",
            "0  76001       Alaa Abdelnaby       Alaa     Abdelnaby          0\n",
            "1  76002      Zaid Abdul-Aziz       Zaid    Abdul-Aziz          0\n",
            "2  76003  Kareem Abdul-Jabbar     Kareem  Abdul-Jabbar          0\n",
            "3     51   Mahmoud Abdul-Rauf    Mahmoud    Abdul-Rauf          0\n",
            "4   1505    Tariq Abdul-Wahad      Tariq   Abdul-Wahad          0\n"
          ],
          "name": "stdout"
        }
      ]
    },
    {
      "cell_type": "markdown",
      "metadata": {
        "id": "8AOfhxDO0KbT"
      },
      "source": [
        "### Sección 2: Depuración de Datos"
      ]
    }
  ]
}